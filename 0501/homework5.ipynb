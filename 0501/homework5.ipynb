{
 "cells": [
  {
   "cell_type": "code",
   "execution_count": 1,
   "metadata": {},
   "outputs": [
    {
     "name": "stdout",
     "output_type": "stream",
     "text": [
      "4\n",
      "0\n",
      "4\n",
      "1.0\n"
     ]
    }
   ],
   "source": [
    "def plus(m,n):\n",
    "    return m +n\n",
    "print(plus(2,2))\n",
    "\n",
    "def subtract(m,n):\n",
    "    return m -n\n",
    "print(subtract(2,2))\n",
    "\n",
    "def multiply(m,n):\n",
    "    return m *n\n",
    "print(multiply(2,2))\n",
    "\n",
    "def divide(m,n):\n",
    "    return m /n\n",
    "print(divide(2,2))"
   ]
  }
 ],
 "metadata": {
  "kernelspec": {
   "display_name": "Python 3",
   "language": "python",
   "name": "python3"
  },
  "language_info": {
   "codemirror_mode": {
    "name": "ipython",
    "version": 3
   },
   "file_extension": ".py",
   "mimetype": "text/x-python",
   "name": "python",
   "nbconvert_exporter": "python",
   "pygments_lexer": "ipython3",
   "version": "3.7.3"
  }
 },
 "nbformat": 4,
 "nbformat_minor": 2
}
